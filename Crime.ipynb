{
 "cells": [
  {
   "cell_type": "code",
   "execution_count": null,
   "id": "a77bfbfb-d924-4f9a-8715-b5b70f5dad84",
   "metadata": {},
   "outputs": [],
   "source": [
    "#handle warnings\n",
    "import warnings\n",
    "warnings.filterwarnings(\"ignore\")\n",
    "\n",
    "import shapely                 #needed to set geopandas geometry \n",
    "from shapely.wkt import loads  #needed to set geopandas geometry\n",
    "\n",
    "import pandas as pd            #for DataFrame and analysis\n",
    "import geopandas as gpd        #for mapping and spatial aggregation\n",
    "import mapclassify as mp   #to view quantitative classification summaries\n",
    "\n",
    "import numpy as np        #for working with arrays from mapclassify\n",
    "\n",
    "import matplotlib.pyplot as plt  #use matplotlib to modify the plots (e.g. make them larger) \n",
    "import palettable.colorbrewer.sequential as pcs  #for colorBrewer palettes\n",
    "\n"
   ]
  },
  {
   "cell_type": "code",
   "execution_count": null,
   "id": "72a49e57-042c-4da7-85e2-1edcb229e6c4",
   "metadata": {},
   "outputs": [],
   "source": [
    "df_crime = pd.read_csv(\"MPS LSOA Level Crime (Historical).csv\")\n",
    "lsoa_gdf = gpd.read_file(\"LSOA_2011_London_gen_MHW.shp\")"
   ]
  },
  {
   "cell_type": "code",
   "execution_count": null,
   "id": "6f455af9-aea7-481b-a497-c8b3e949ad78",
   "metadata": {},
   "outputs": [],
   "source": [
    "months_2019 = [f\"2019{str(m).zfill(2)}\" for m in range(1, 13)]\n",
    "crime_2019 = df_crime[['LSOA Code'] + months_2019]\n",
    "\n",
    "crime_2019_lsoa = crime_2019[crime_2019['LSOA Code'].str.startswith('E01')]\n",
    "\n",
    "# Step 2: Filter and group by LSOA Code\n",
    "crime_2019_lsoa = (\n",
    "    df_crime[['LSOA Code'] + months_2019]\n",
    "    .groupby('LSOA Code')\n",
    "    .sum()\n",
    ")\n",
    "\n",
    "crime_2019_lsoa['Total_2019_Crime'] = crime_2019_lsoa.sum(axis=1)\n",
    "\n",
    "crime_2019_lsoa = crime_2019_lsoa.reset_index()\n",
    "\n",
    "# Step 5: Merge with shapefile population data using LSOA code\n",
    "lsoa_pop = lsoa_gdf[['LSOA11CD', 'USUALRES']].copy()\n",
    "lsoa_pop = lsoa_pop.rename(columns={'LSOA11CD': 'LSOA Code'})\n",
    "\n",
    "crime_2019_lsoa = crime_2019_lsoa.merge(lsoa_pop, on='LSOA Code', how='left')\n",
    "\n",
    "# Step 6: Calculate crime rate per 1,000 residents\n",
    "crime_2019_lsoa['Crime_Rate_per_1000'] = (\n",
    "    crime_2019_lsoa['Total_2019_Crime'] / crime_2019_lsoa['USUALRES']\n",
    ") * 1000\n"
   ]
  },
  {
   "cell_type": "code",
   "execution_count": null,
   "id": "f9bf01f6-246b-4369-bd16-9b61d76b64b4",
   "metadata": {},
   "outputs": [],
   "source": [
    "crime_2019_lsoa.head()"
   ]
  },
  {
   "cell_type": "code",
   "execution_count": null,
   "id": "18578d84-abbd-44da-b31e-2620b5f0f153",
   "metadata": {},
   "outputs": [],
   "source": [
    "merged_crime_gdf = lsoa_gdf.merge(\n",
    "    crime_2019_lsoa,\n",
    "    left_on='LSOA11CD',\n",
    "    right_on='LSOA Code',\n",
    "    how='left'\n",
    ")\n"
   ]
  },
  {
   "cell_type": "code",
   "execution_count": null,
   "id": "3048beab-f2d1-4de0-b2a6-f58899cc06f0",
   "metadata": {},
   "outputs": [],
   "source": [
    "print(merged_crime_gdf[['LSOA11CD', 'Total_2019_Crime', 'USUALRES_y', 'Crime_Rate_per_1000']].dropna().head())"
   ]
  },
  {
   "cell_type": "code",
   "execution_count": null,
   "id": "018581eb-89bc-4880-85f3-af6de3930c29",
   "metadata": {},
   "outputs": [],
   "source": [
    "merged_crime_gdf.head()"
   ]
  },
  {
   "cell_type": "code",
   "execution_count": null,
   "id": "85825f01-0fef-43d6-a63f-ef896349fae5",
   "metadata": {},
   "outputs": [],
   "source": [
    "merged_crime_gdf = merged_crime_gdf.dropna(subset=['Total_2019_Crime'])"
   ]
  },
  {
   "cell_type": "code",
   "execution_count": null,
   "id": "4492aa1d-e9c1-4572-8bb8-dd21602c8f6b",
   "metadata": {},
   "outputs": [],
   "source": [
    "merged_crime_gdf.head()"
   ]
  },
  {
   "cell_type": "code",
   "execution_count": null,
   "id": "031254b5-5ee1-4eca-96df-d2ff02927ae7",
   "metadata": {},
   "outputs": [],
   "source": [
    "fig, ax = plt.subplots(1, figsize=(10, 10))\n",
    "\n",
    "merged_crime_gdf.plot(\n",
    "    column='Crime_Rate_per_1000',\n",
    "    cmap='Reds',\n",
    "    linewidth=0.1,\n",
    "    edgecolor='grey',\n",
    "    legend=True,\n",
    "    ax=ax,\n",
    "    missing_kwds={'color': 'lightgrey', \"label\": \"No Data\"}\n",
    ")\n",
    "\n",
    "ax.set_title(\"Total Crime per LSOA in London (2019)\", fontsize=15)\n",
    "ax.set_axis_off()\n",
    "plt.show()"
   ]
  },
  {
   "cell_type": "code",
   "execution_count": null,
   "id": "040cf860-fa78-4d2f-af77-81e8d1f7c4ba",
   "metadata": {},
   "outputs": [],
   "source": [
    "print(merged_crime_gdf['LSOA Code'].value_counts().head())"
   ]
  },
  {
   "cell_type": "code",
   "execution_count": null,
   "id": "c29c6fdf-629c-4a0f-b5f6-c73aa2626577",
   "metadata": {},
   "outputs": [],
   "source": [
    "print(merged_crime_gdf['Crime_Rate_per_1000'].max())"
   ]
  },
  {
   "cell_type": "code",
   "execution_count": null,
   "id": "d0f14a2d-e119-49a4-a5fc-efe8fbd4f2ad",
   "metadata": {},
   "outputs": [],
   "source": [
    "fig, ax1 = plt.subplots(1, figsize=(12, 10))   \n",
    "merged_crime_gdf.plot(column='Crime_Rate_per_1000', ax=ax1,\n",
    "                      scheme='natural_breaks',\n",
    "         cmap='viridis',\n",
    "         edgecolor='grey', linewidth=0.1,        #change line style\n",
    "         legend=True, legend_kwds={'title': \"Number of Crimes\",'loc': 'lower right'})  \n",
    "\n",
    "ax1.axis('off') #don't plot the axes (bounding box)\n",
    "\n",
    "plt.title('Crime Rate per 1000 people by LSOA, 2019', fontsize=20)  #provide a title\n",
    "\n",
    "ax1.annotate(xy=(0.1, 0.1), xycoords='figure fraction', \n",
    "             horizontalalignment='left', verticalalignment='top', \n",
    "             fontsize=12, color='#555555')  #add source info on the image itself\n",
    "\n",
    "plt.show()"
   ]
  },
  {
   "cell_type": "code",
   "execution_count": null,
   "id": "c55135ee-1e9f-4f26-8cbd-dcb6e477303a",
   "metadata": {},
   "outputs": [],
   "source": [
    "import matplotlib.pyplot as plt \n",
    "from matplotlib import colors \n",
    "# Analysis\n",
    "import geopandas as gpd \n",
    "import pandas as pd\n",
    "from libpysal import weights \n",
    "from pysal.explore import esda\n",
    "import numpy as np"
   ]
  },
  {
   "cell_type": "code",
   "execution_count": null,
   "id": "6fbd36c9-b41d-437f-820a-52f08d4ed7b1",
   "metadata": {},
   "outputs": [],
   "source": [
    "import warnings\n",
    "warnings.filterwarnings(\"ignore\")\n",
    "\n",
    "import shapely                 #needed to set geopandas geometry \n",
    "from shapely.wkt import loads  #needed to set geopandas geometry\n",
    "\n",
    "import pandas as pd            #for DataFrame and analysis\n",
    "import geopandas as gpd        #for mapping and spatial aggregation\n",
    "import mapclassify as mp   #to view quantitative classification summaries\n",
    "\n",
    "import numpy as np        #for working with arrays from mapclassify\n",
    "\n",
    "import matplotlib.pyplot as plt  #use matplotlib to modify the plots (e.g. make them larger) \n",
    "import palettable.colorbrewer.sequential as pcs  #for colorBrewer palettes"
   ]
  },
  {
   "cell_type": "code",
   "execution_count": null,
   "id": "d20de9fc-418a-4555-b4a4-d48d07dc9e29",
   "metadata": {},
   "outputs": [],
   "source": [
    "w = weights.KNN.from_dataframe(merged_crime_gdf, k=8)\n",
    "w.transform = 'R'"
   ]
  },
  {
   "cell_type": "code",
   "execution_count": null,
   "id": "d651aaaf-c131-4c90-9304-3e7db3cdcd2e",
   "metadata": {},
   "outputs": [],
   "source": [
    "merged_crime_gdf['Crime_Rate_log'] = np.log1p(merged_crime_gdf['Crime_Rate_per_1000'])\n",
    "moran = esda.moran.Moran(merged_crime_gdf['Crime_Rate_log'], w)"
   ]
  },
  {
   "cell_type": "code",
   "execution_count": null,
   "id": "2ff4cdb8-9347-4a70-b2cf-422e58621ab9",
   "metadata": {},
   "outputs": [],
   "source": [
    "round(moran.I,3)"
   ]
  },
  {
   "cell_type": "code",
   "execution_count": null,
   "id": "41616d82-4e77-453c-bd02-278527da69d7",
   "metadata": {},
   "outputs": [],
   "source": [
    "moran.p_sim"
   ]
  },
  {
   "cell_type": "code",
   "execution_count": null,
   "id": "c4cbefe2-55cb-40cf-8165-0bec2ed8bb75",
   "metadata": {},
   "outputs": [],
   "source": [
    "plt.hist(moran.sim, 10, facecolor='lightblue', edgecolor='black')\n",
    "plt.vlines(moran.I, 0, 350, color='r', linestyle=\"--\")\n",
    "plt.vlines(moran.EI, 0, 350)\n",
    "plt.xlabel(\"Moran's I\")\n",
    "plt.ylabel(\"Count\")\n",
    "plt.show()"
   ]
  },
  {
   "cell_type": "code",
   "execution_count": null,
   "id": "f533fc13-f6ed-43c2-b279-6faff933c101",
   "metadata": {},
   "outputs": [],
   "source": [
    "merged_crime_gdf['Crime_Rate_Log_lag'] = weights.spatial_lag.lag_spatial(w, merged_crime_gdf['Crime_Rate_log'])"
   ]
  },
  {
   "cell_type": "code",
   "execution_count": null,
   "id": "09f33382-2927-4bf0-8bea-bcfdd5b6e618",
   "metadata": {},
   "outputs": [],
   "source": [
    "def standardize(df, var):\n",
    "    newname = var + '_z'\n",
    "    df[newname] = (df[var] - df[var].mean()) / df[var].std()\n",
    "\n",
    "standardize(merged_crime_gdf,'Crime_Rate_log')\n",
    "standardize(merged_crime_gdf, 'Crime_Rate_Log_lag')\n"
   ]
  },
  {
   "cell_type": "code",
   "execution_count": null,
   "id": "d27c398d-94d0-4ad3-bc74-330b6c46a2b0",
   "metadata": {},
   "outputs": [],
   "source": [
    "merged_crime_gdf.tail()"
   ]
  },
  {
   "cell_type": "code",
   "execution_count": null,
   "id": "48da3ae9-28db-4f30-8c1c-f442bfb362a8",
   "metadata": {},
   "outputs": [],
   "source": [
    "fig, ax = plt.subplots(2,2, figsize=(8,10))\n",
    "\n",
    "ax=ax.flatten()\n",
    "\n",
    "\n",
    "for i, p in enumerate(['Crime_Rate_log',\n",
    "                       'Crime_Rate_log_z','Crime_Rate_Log_lag','Crime_Rate_Log_lag_z']):\n",
    "    \n",
    "    merged_crime_gdf.plot(column=p, cmap='viridis', \n",
    "                   scheme='quantiles', k=5,\n",
    "                   linewidth=0.,\n",
    "                   legend=True, legend_kwds={\"title\":p, \"loc\": 3}, ax=ax[i]\n",
    "                  )\n",
    "    ax[i].set_axis_off()\n",
    "    \n",
    "fig.tight_layout()\n",
    "plt.show()"
   ]
  },
  {
   "cell_type": "code",
   "execution_count": null,
   "id": "3d0e9fa0-68e2-47d6-b86b-d09fbbea801e",
   "metadata": {},
   "outputs": [],
   "source": [
    "fig, ax = plt.subplots(1, figsize=(6, 6))\n",
    "\n",
    "\n",
    "plt.scatter(merged_crime_gdf['Crime_Rate_log_z'], merged_crime_gdf['Crime_Rate_Log_lag_z'], color='slateblue', alpha=0.7)\n",
    "\n",
    "# Add reference lines at 0\n",
    "plt.axhline(0, color='grey', linestyle='--')\n",
    "plt.axvline(0, color='grey', linestyle='--')\n",
    "\n",
    "# Labels and title\n",
    "ax.set_title(\"Moran Scatterplot of Number of Crimes Recorded in London by LSOA(2019)\", fontsize=13)\n",
    "ax.set_xlabel(\"Standardised Crime Rate (z-score)\", fontsize=11)\n",
    "ax.set_ylabel(\"Spatial Lag of Crime Rate (z-score)\", fontsize=11)\n",
    "\n",
    "\n",
    "plt.tight_layout()\n",
    "plt.show()"
   ]
  },
  {
   "cell_type": "code",
   "execution_count": null,
   "id": "a0305f5b-76cd-4c83-a22a-dbef0ed09f3d",
   "metadata": {},
   "outputs": [],
   "source": [
    "merged_crime_gdf['Crime_Rate_per_1000'] = (\n",
    "    merged_crime_gdf['Total_2019_Crime'] / merged_crime_gdf['USUALRES']\n",
    ") * 1000\n"
   ]
  },
  {
   "cell_type": "code",
   "execution_count": null,
   "id": "9752a971-3eda-4436-b748-af5b5fb39c7e",
   "metadata": {},
   "outputs": [],
   "source": [
    "merged_crime_gdf.head()"
   ]
  },
  {
   "cell_type": "code",
   "execution_count": null,
   "id": "60024024-a98f-4848-b826-961a1cf26ae9",
   "metadata": {},
   "outputs": [],
   "source": [
    "fig, ax = plt.subplots(1, figsize=(6, 6))\n",
    "\n",
    "plt.scatter(\n",
    "    merged_crime_gdf['Crime_Rate_log_z'], \n",
    "    merged_crime_gdf['Crime_Rate_Log_lag_z'], \n",
    "    alpha=0.6, \n",
    "    color='slateblue'\n",
    ")\n",
    "\n",
    "\n",
    "ax.axvline(0, color='k', linestyle='--', alpha=0.6)\n",
    "ax.axhline(0, color='k', linestyle='--', alpha=0.6)\n",
    "\n",
    "\n",
    "plt.text(1, 1.5, \"HH\", fontsize=20, color='darkred')\n",
    "plt.text(1, -1.5, \"HL\", fontsize=20, color='darkorange')\n",
    "plt.text(-1.75, 1.5, \"LH\", fontsize=20, color='darkgreen')\n",
    "plt.text(-1.75, -1.5, \"LL\", fontsize=20, color='navy')\n",
    "\n",
    "ax.set_title(\"Moran Scatterplot of Log-Transformed Crime Rate (London, 2019)\", fontsize=13)\n",
    "ax.set_xlabel(\"Standardised Log Crime Rate (z-score)\", fontsize=11)\n",
    "ax.set_ylabel(\"Spatial Lag of Log Crime Rate (z-score)\", fontsize=11)\n",
    "\n",
    "\n",
    "plt.tight_layout()\n",
    "plt.show()"
   ]
  },
  {
   "cell_type": "code",
   "execution_count": null,
   "id": "d761a5a6-8096-4d6a-8f20-119107526e56",
   "metadata": {},
   "outputs": [],
   "source": [
    "def assign_quadrant(row):\n",
    "    if row['Crime_Rate_log_z'] > 0:\n",
    "        if row['Crime_Rate_Log_lag_z'] > 0:\n",
    "            return 'HH'  \n",
    "        else:\n",
    "            return 'HL'  \n",
    "    else:\n",
    "        if row['Crime_Rate_Log_lag_z'] > 0:\n",
    "            return 'LH'  \n",
    "        else:\n",
    "            return 'LL'  \n",
    "\n",
    "merged_crime_gdf['quadrant'] = merged_crime_gdf.apply(assign_quadrant, axis=1)"
   ]
  },
  {
   "cell_type": "code",
   "execution_count": null,
   "id": "7bd2bed5-3071-4210-a460-53a4cee67805",
   "metadata": {},
   "outputs": [],
   "source": [
    "qcolors = {'HH':'red', 'HL':'pink', 'LH':'lightblue', 'LL':'blue'}\n",
    "cmap = colors.ListedColormap(qcolors.values())\n",
    "\n",
    "fig, ax = plt.subplots(1, 2, figsize=(12, 6))\n",
    "\n",
    "merged_crime_gdf.plot(\n",
    "    column='quadrant',\n",
    "    categorical=True,\n",
    "    cmap=cmap,\n",
    "    edgecolor='white',\n",
    "    linewidth=0.2,\n",
    "    legend=True,\n",
    "    legend_kwds={\"title\": \"Moran I Quadrant\", \"loc\": 3},\n",
    "    ax=ax[0]\n",
    ")\n",
    "ax[0].set_title(\"Local Spatial Clusters (IMD Rank)\")\n",
    "ax[0].axis(\"off\")\n",
    "\n",
    "ax[1].scatter(\n",
    "    merged_crime_gdf['Crime_Rate_log_z'],\n",
    "    merged_crime_gdf['Crime_Rate_Log_lag_z'],\n",
    "    c=merged_crime_gdf['quadrant'].map(qcolors),\n",
    "    alpha=0.7\n",
    ")\n",
    "ax[1].axvline(0, color='k', linestyle='--', alpha=0.5)\n",
    "ax[1].axhline(0, color='k', linestyle='--', alpha=0.5)\n",
    "\n",
    "ax[1].set_xlabel(\"Crime Rate (z)\")\n",
    "ax[1].set_ylabel(\"Spatial Lag of Crime Rate (z)\")\n",
    "ax[1].set_title(\"Moran Scatterplot\")\n",
    "\n",
    "plt.tight_layout()\n",
    "plt.show()"
   ]
  },
  {
   "cell_type": "code",
   "execution_count": null,
   "id": "762602f1-bdd5-4f4b-9c7d-2e517949f17e",
   "metadata": {},
   "outputs": [],
   "source": [
    "lisa = esda.moran.Moran_Local(merged_crime_gdf['Crime_Rate_log'], w)"
   ]
  },
  {
   "cell_type": "code",
   "execution_count": null,
   "id": "37667cbb-a356-44c2-b34a-2e4bda31cc3e",
   "metadata": {},
   "outputs": [],
   "source": [
    "merged_crime_gdf['Is'] = lisa.Is\n",
    "\n",
    "fig, ax = plt.subplots(1, figsize=(9, 9))\n",
    "merged_crime_gdf.plot(column='Is', cmap='viridis',\n",
    "scheme='quantiles', k=5,\n",
    "linewidth=0.,\n",
    "legend=True, legend_kwds={\"title\":\"Local Moran's I\",\"loc\": 2}, ax=ax\n",
    "       )\n",
    "ax.set_axis_off()"
   ]
  },
  {
   "cell_type": "code",
   "execution_count": null,
   "id": "dbee5040-eab8-41ed-9af1-3abda31146c7",
   "metadata": {},
   "outputs": [],
   "source": [
    "plt.hist(lisa.Is, 10, facecolor='lightblue', edgecolor='black')\n",
    "plt.xlabel(\"Local Moran's I\")\n",
    "plt.ylabel(\"Count\")\n",
    "plt.show()"
   ]
  },
  {
   "cell_type": "code",
   "execution_count": null,
   "id": "c72afcd6-23e2-4e47-b55e-d276f30240be",
   "metadata": {},
   "outputs": [],
   "source": [
    "plt.hist(lisa.p_sim, 10, facecolor='lightblue', edgecolor='black')\n",
    "plt.xlabel(\"Local Moran's I p-value\")\n",
    "plt.ylabel(\"Count\")\n",
    "plt.show()"
   ]
  },
  {
   "cell_type": "code",
   "execution_count": null,
   "id": "7a51e696-10f5-4a2e-a67b-9b09b466bbb9",
   "metadata": {},
   "outputs": [],
   "source": [
    "merged_crime_gdf['p-sim'] = lisa.p_sim\n",
    "sig = 1 * (lisa.p_sim < 0.05) \n",
    "slabels = ['non-sig.', 'significant'] \n",
    "labels = [slabels[i] for i in sig]\n",
    "merged_crime_gdf['sig'] = labels\n",
    "merged_crime_gdf[['sig','p-sim']].head(100)"
   ]
  },
  {
   "cell_type": "code",
   "execution_count": null,
   "id": "32bc5803-51c3-4cc2-abb9-ada25981858c",
   "metadata": {},
   "outputs": [],
   "source": [
    "fig, ax = plt.subplots(1,figsize=(10,8))\n",
    "sigcolors = {'non-sig.':'lightgrey', 'significant':'black'}\n",
    "merged_crime_gdf.plot(column='sig', categorical=True, cmap=colors.ListedColormap(sigcolors. \n",
    "    values()),\n",
    "            k=2, linewidth=0.1, edgecolor='white',\n",
    "               legend=True, legend_kwds={\"title\":'Local Moran I',\"loc\": 2}, ax=ax)\n",
    "plt.show()"
   ]
  },
  {
   "cell_type": "code",
   "execution_count": null,
   "id": "180ce81c-6cf6-4670-92d1-eec62dd1a060",
   "metadata": {},
   "outputs": [],
   "source": [
    "merged_crime_gdf['sigIs'] = np.where(merged_crime_gdf['sig'] == 'significant', merged_crime_gdf['Is'], np.nan)\n",
    "\n",
    "fig, ax = plt.subplots(1, figsize=(10, 8))\n",
    "\n",
    "merged_crime_gdf.plot(color='lightgrey', linewidth=0.0, ax=ax)\n",
    "\n",
    "merged_crime_gdf.plot(\n",
    "    column='sigIs',\n",
    "    cmap='viridis',\n",
    "    scheme='quantiles',\n",
    "    k=5,\n",
    "    edgecolor='white',\n",
    "    linewidth=0.5,\n",
    "    legend=True,\n",
    "    legend_kwds={\"title\": \"Local Moran's I\", \"loc\": \"upper left\"},\n",
    "    ax=ax\n",
    ")\n",
    "\n",
    "ax.set_title(\"Statistically Significant Local Moran's I – Crime Rate\", fontsize=14)\n",
    "ax.set_axis_off()\n",
    "plt.show()"
   ]
  },
  {
   "cell_type": "code",
   "execution_count": null,
   "id": "fb0be4fc-e2cb-425c-9dd8-bde0bbcaa27e",
   "metadata": {},
   "outputs": [],
   "source": [
    "merged_crime_gdf['sigIs'] = np.where(merged_crime_gdf['sig'] == 'significant', merged_crime_gdf['Is'], np.nan)\n",
    "\n",
    "\n",
    "fig, ax = plt.subplots(1, figsize=(10, 8))\n",
    "\n",
    "merged_crime_gdf.plot(color='lightgrey', linewidth=0.2, ax=ax)\n",
    "\n",
    "merged_crime_gdf.plot(\n",
    "    column='sigIs',\n",
    "    cmap='viridis',\n",
    "    scheme='quantiles',\n",
    "    k=5,\n",
    "    edgecolor='white',\n",
    "    linewidth=0.2,\n",
    "    legend=True,\n",
    "    legend_kwds={\"title\": \"Local Moran's I\", \"loc\": 2},\n",
    "    ax=ax\n",
    ")\n",
    "\n",
    "ax.set_title(\"Significant Local Moran's I for Crime Rate (2019)\", fontsize=14)\n",
    "ax.axis('off')\n",
    "plt.tight_layout()\n",
    "plt.show()"
   ]
  },
  {
   "cell_type": "code",
   "execution_count": null,
   "id": "c60bfe6e-f592-46e7-8068-6eceb6a2d3c9",
   "metadata": {},
   "outputs": [],
   "source": [
    "qcolors = {'HH': 'red', 'HL': 'pink', 'LL': 'lightblue', 'LH': 'blue'}\n",
    "cmap_quadrant = colors.ListedColormap(qcolors.values())\n",
    "\n",
    "\n",
    "fig, ax = plt.subplots(1, 2, figsize=(12, 6))\n",
    "\n",
    "merged_crime_gdf.plot(\n",
    "    column='quadrant',\n",
    "    categorical=True,\n",
    "    cmap=cmap_quadrant,\n",
    "    edgecolor='white',\n",
    "    linewidth=0.2,\n",
    "    legend=True,\n",
    "    legend_kwds={\"title\": 'Moran I Quadrant', \"loc\": 3},\n",
    "    ax=ax[0]\n",
    ")\n",
    "ax[0].set_title(\"Moran's I Clusters (Crime Rate)\")\n",
    "ax[0].axis('off')\n",
    "\n",
    "merged_crime_gdf.plot(\n",
    "    color='lightgrey',\n",
    "    linewidth=0.2,\n",
    "    ax=ax[1]\n",
    ")\n",
    "merged_crime_gdf.plot(\n",
    "    column='sigIs',\n",
    "    cmap='viridis',\n",
    "    scheme='quantiles',\n",
    "    k=5,\n",
    "    edgecolor='white',\n",
    "    linewidth=0.2,\n",
    "    legend=True,\n",
    "    legend_kwds={\"title\": \"Local Moran's I\", \"loc\": 3},\n",
    "    ax=ax[1]\n",
    ")\n",
    "ax[1].set_title(\"Significant Local Moran's I (Crime Rate)\")\n",
    "ax[1].axis('off')\n",
    "\n",
    "plt.tight_layout()\n",
    "plt.show()"
   ]
  },
  {
   "cell_type": "code",
   "execution_count": null,
   "id": "cf34c019-cfb1-4add-97bf-e68c76cc28db",
   "metadata": {},
   "outputs": [],
   "source": [
    "q_labels = ['HH', 'LH', 'LL', 'HL']  \n",
    "\n",
    "labels = [q_labels[i - 1] for i in lisa.q]\n",
    "\n",
    "merged_crime_gdf['quadrant'] = labels\n",
    "\n",
    "sig = lisa.p_sim < 0.05\n",
    "\n",
    "hotspot   = 1 * (sig * (lisa.q == 1))  # HH\n",
    "doughnut  = 2 * (sig * (lisa.q == 2))  # LH\n",
    "coldspot  = 3 * (sig * (lisa.q == 3))  # LL\n",
    "diamond   = 4 * (sig * (lisa.q == 4))  # HL\n",
    "\n",
    "spots = hotspot + doughnut + coldspot + diamond\n",
    "\n",
    "spot_labels = ['0 non-sig.', '1 hot spot', '2 doughnut', '3 cold spot', '4 diamond']\n",
    "labels = [spot_labels[i] for i in spots]\n",
    "\n",
    "merged_crime_gdf['slabels'] = labels\n",
    "\n",
    "fig, ax = plt.subplots(1, figsize=(12, 12))\n",
    "\n",
    "sig_colors = colors.ListedColormap(['lightgrey', 'red', 'lightblue', 'blue', 'pink'])\n",
    "\n",
    "merged_crime_gdf.plot(\n",
    "    column='slabels',\n",
    "    categorical=True,\n",
    "    cmap=sig_colors,\n",
    "    k=2,\n",
    "    linewidth=0.1,\n",
    "    edgecolor='white',\n",
    "    legend=True,\n",
    "    legend_kwds={'title': \"LISA (Moran's I)\", 'loc': 2},\n",
    "    ax=ax\n",
    ")\n",
    "\n",
    "ax.set_axis_off()\n",
    "ax.set_title(\"LISA Cluster Map (Log Crime Rate per 1,000 London LSOAs (2019)\", fontsize=15)\n",
    "plt.show()"
   ]
  },
  {
   "cell_type": "code",
   "execution_count": null,
   "id": "521e640f-a4a1-4e47-bfe8-40a0327236ec",
   "metadata": {},
   "outputs": [],
   "source": []
  }
 ],
 "metadata": {
  "kernelspec": {
   "display_name": "Python 3 (ipykernel)",
   "language": "python",
   "name": "python3"
  },
  "language_info": {
   "codemirror_mode": {
    "name": "ipython",
    "version": 3
   },
   "file_extension": ".py",
   "mimetype": "text/x-python",
   "name": "python",
   "nbconvert_exporter": "python",
   "pygments_lexer": "ipython3",
   "version": "3.12.6"
  }
 },
 "nbformat": 4,
 "nbformat_minor": 5
}
